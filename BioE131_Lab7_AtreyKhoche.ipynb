{
 "cells": [
  {
   "cell_type": "code",
   "execution_count": 30,
   "metadata": {},
   "outputs": [],
   "source": [
    "import numpy as np\n",
    "import pandas as pd"
   ]
  },
  {
   "cell_type": "markdown",
   "metadata": {},
   "source": [
    "Using np.random.choice, generate 100 megabytes (8 bits/byte * 1e6 bytes/megabyte) of random data containing 100%, 90%, 80%, 70%, 60%, and 50% zeros. Be sure to call np.packbitson your data before writing it to a file. For example: "
   ]
  },
  {
   "cell_type": "code",
   "execution_count": 14,
   "metadata": {},
   "outputs": [],
   "source": [
    "def GenerateSequence(prob1, prob2, file_name):\n",
    "    myvar = np.random.choice([0,1], size=800000000, replace=True, p= [prob1, prob2])\n",
    "    myvar = np.packbits(myvar)\n",
    "    open(file_name, 'wb').write(myvar)\n"
   ]
  },
  {
   "cell_type": "code",
   "execution_count": 18,
   "metadata": {},
   "outputs": [],
   "source": [
    "GenerateSequence(1, 0, 'zeros_100p')"
   ]
  },
  {
   "cell_type": "code",
   "execution_count": 25,
   "metadata": {},
   "outputs": [],
   "source": [
    "GenerateSequence(1, 0, 'zeros_100p')\n",
    "GenerateSequence(0.9, 0.1, 'zeros_90p')\n",
    "GenerateSequence(0.8, 0.2, 'zeros_80p')\n",
    "GenerateSequence(0.7, 0.3, 'zeros_70p')\n",
    "GenerateSequence(0.6, 0.4, 'zeros_60p')\n",
    "GenerateSequence(0.5, 0.5, 'zeros_50p')"
   ]
  },
  {
   "cell_type": "code",
   "execution_count": 6,
   "metadata": {},
   "outputs": [],
   "source": [
    "def GenDNA(file_name):\n",
    "    myvar = np.random.choice(['A', 'T', 'G', 'C'], size=800000000, replace=True)\n",
    "    open(file_name, 'w').write(''.join(myvar))\n",
    "def GenProtein(file_name):\n",
    "    myvar = np.random.choice(['A','R','N','D','B','C','E','Q','Z','G','H','I','L','K','M','F','P','S','T','W','Y','V'], size=800000000, replace=True)\n",
    "    open(file_name, 'w').write(''.join(myvar))\n",
    "    "
   ]
  },
  {
   "cell_type": "code",
   "execution_count": null,
   "metadata": {},
   "outputs": [],
   "source": [
    "GenDNA('DNA_seq.fa')"
   ]
  },
  {
   "cell_type": "code",
   "execution_count": null,
   "metadata": {},
   "outputs": [],
   "source": [
    "GenProtein('Protein_Seq.fa')"
   ]
  },
  {
   "cell_type": "markdown",
   "metadata": {},
   "source": [
    "Keep track of the size of the input files, the size of the output files, and the time each command took to run in a table in your iPython notebook. "
   ]
  },
  {
   "cell_type": "code",
   "execution_count": 26,
   "metadata": {},
   "outputs": [
    {
     "name": "stdout",
     "output_type": "stream",
     "text": [
      "\n",
      "real\t0m0.157s\n",
      "user\t0m1.802s\n",
      "sys\t0m0.068s\n",
      "\n",
      "real\t0m1.056s\n",
      "user\t0m15.275s\n",
      "sys\t0m0.548s\n",
      "\n",
      "real\t0m1.236s\n",
      "user\t0m17.905s\n",
      "sys\t0m0.622s\n",
      "\n",
      "real\t0m1.471s\n",
      "user\t0m21.664s\n",
      "sys\t0m0.580s\n",
      "\n",
      "real\t0m1.736s\n",
      "user\t0m25.885s\n",
      "sys\t0m0.600s\n",
      "\n",
      "real\t0m1.873s\n",
      "user\t0m27.758s\n",
      "sys\t0m0.643s\n"
     ]
    }
   ],
   "source": [
    "! time pbzip2 -f zeros_100p\n",
    "! time pbzip2 -f zeros_90p\n",
    "! time pbzip2 -f zeros_80p\n",
    "! time pbzip2 -f zeros_70p\n",
    "! time pbzip2 -f zeros_60p\n",
    "! time pbzip2 -f zeros_50p"
   ]
  },
  {
   "cell_type": "code",
   "execution_count": 19,
   "metadata": {},
   "outputs": [
    {
     "name": "stdout",
     "output_type": "stream",
     "text": [
      "\n",
      "real\t0m0.594s\n",
      "user\t0m0.578s\n",
      "sys\t0m0.016s\n",
      "\n",
      "real\t0m0.898s\n",
      "user\t0m0.854s\n",
      "sys\t0m0.044s\n",
      "pbzip2: *ERROR: File [zeros_100p] NOT found!  Skipping...\n",
      "-------------------------------------------\n",
      "\n",
      "real\t0m0.002s\n",
      "user\t0m0.002s\n",
      "sys\t0m0.000s\n"
     ]
    }
   ],
   "source": [
    "! time gzip -cf zeros_100p > zeros_100p.gz \n",
    "! time bzip2 -f zeros_100p \n",
    "! time pbzip2 -f zeros_100p"
   ]
  },
  {
   "cell_type": "code",
   "execution_count": 20,
   "metadata": {},
   "outputs": [
    {
     "name": "stdout",
     "output_type": "stream",
     "text": [
      "\n",
      "real\t0m26.670s\n",
      "user\t0m26.547s\n",
      "sys\t0m0.072s\n",
      "\n",
      "real\t0m9.780s\n",
      "user\t0m9.707s\n",
      "sys\t0m0.072s\n",
      "pbzip2: *ERROR: File [zeros_90p] NOT found!  Skipping...\n",
      "-------------------------------------------\n",
      "\n",
      "real\t0m0.002s\n",
      "user\t0m0.002s\n",
      "sys\t0m0.000s\n"
     ]
    }
   ],
   "source": [
    "! time gzip -cf zeros_90p > zeros_90p.gz \n",
    "! time bzip2 -f zeros_90p \n",
    "! time pbzip2 -f zeros_90p"
   ]
  },
  {
   "cell_type": "code",
   "execution_count": 21,
   "metadata": {},
   "outputs": [
    {
     "name": "stdout",
     "output_type": "stream",
     "text": [
      "\n",
      "real\t0m17.059s\n",
      "user\t0m16.989s\n",
      "sys\t0m0.068s\n",
      "\n",
      "real\t0m10.232s\n",
      "user\t0m10.110s\n",
      "sys\t0m0.120s\n",
      "pbzip2: *ERROR: File [zeros_80p] NOT found!  Skipping...\n",
      "-------------------------------------------\n",
      "\n",
      "real\t0m0.002s\n",
      "user\t0m0.002s\n",
      "sys\t0m0.000s\n"
     ]
    }
   ],
   "source": [
    "! time gzip -cf zeros_80p > zeros_80p.gz \n",
    "! time bzip2 -f zeros_80p \n",
    "! time pbzip2 -f zeros_80p"
   ]
  },
  {
   "cell_type": "code",
   "execution_count": 22,
   "metadata": {},
   "outputs": [
    {
     "name": "stdout",
     "output_type": "stream",
     "text": [
      "\n",
      "real\t0m6.974s\n",
      "user\t0m6.888s\n",
      "sys\t0m0.084s\n",
      "\n",
      "real\t0m11.021s\n",
      "user\t0m10.940s\n",
      "sys\t0m0.080s\n",
      "pbzip2: *ERROR: File [zeros_70p] NOT found!  Skipping...\n",
      "-------------------------------------------\n",
      "\n",
      "real\t0m0.002s\n",
      "user\t0m0.002s\n",
      "sys\t0m0.000s\n"
     ]
    }
   ],
   "source": [
    "! time gzip -cf zeros_70p > zeros_70p.gz \n",
    "! time bzip2 -f zeros_70p \n",
    "! time pbzip2 -f zeros_70p"
   ]
  },
  {
   "cell_type": "code",
   "execution_count": 23,
   "metadata": {},
   "outputs": [
    {
     "name": "stdout",
     "output_type": "stream",
     "text": [
      "\n",
      "real\t0m4.333s\n",
      "user\t0m4.215s\n",
      "sys\t0m0.116s\n",
      "\n",
      "real\t0m12.215s\n",
      "user\t0m12.102s\n",
      "sys\t0m0.112s\n",
      "pbzip2: *ERROR: File [zeros_60p] NOT found!  Skipping...\n",
      "-------------------------------------------\n",
      "\n",
      "real\t0m0.002s\n",
      "user\t0m0.002s\n",
      "sys\t0m0.000s\n"
     ]
    }
   ],
   "source": [
    "! time gzip -cf zeros_60p > zeros_60p.gz \n",
    "! time bzip2 -f zeros_60p \n",
    "! time pbzip2 -f zeros_60p"
   ]
  },
  {
   "cell_type": "code",
   "execution_count": 24,
   "metadata": {},
   "outputs": [
    {
     "name": "stdout",
     "output_type": "stream",
     "text": [
      "\n",
      "real\t0m3.502s\n",
      "user\t0m3.437s\n",
      "sys\t0m0.064s\n",
      "\n",
      "real\t0m12.974s\n",
      "user\t0m12.893s\n",
      "sys\t0m0.076s\n",
      "pbzip2: *ERROR: File [zeros_50p] NOT found!  Skipping...\n",
      "-------------------------------------------\n",
      "\n",
      "real\t0m0.002s\n",
      "user\t0m0.002s\n",
      "sys\t0m0.000s\n"
     ]
    }
   ],
   "source": [
    "! time gzip -cf zeros_50p > zeros_50p.gz \n",
    "! time bzip2 -f zeros_50p \n",
    "! time pbzip2 -f zeros_50p"
   ]
  },
  {
   "cell_type": "code",
   "execution_count": 27,
   "metadata": {},
   "outputs": [
    {
     "name": "stdout",
     "output_type": "stream",
     "text": [
      "�]\u0000\u0003DNA_seq.fa\u0000\u0003\u0000\u0000\u0000\u0000\u0000\u0000\u0000\u0000\u0000\n",
      "real\t0m0.001s\n",
      "user\t0m0.001s\n",
      "sys\t0m0.000s\n",
      "\n",
      "real\t0m0.001s\n",
      "user\t0m0.001s\n",
      "sys\t0m0.000s\n",
      "pbzip2: *ERROR: File [DNA_seq.fa] NOT found!  Skipping...\n",
      "-------------------------------------------\n",
      "\n",
      "real\t0m0.002s\n",
      "user\t0m0.002s\n",
      "sys\t0m0.000s\n"
     ]
    }
   ],
   "source": [
    "! time gzip -cf DNA_seq.fa\n",
    "! time bzip2 -f DNA_seq.fa\n",
    "! time pbzip2 -f DNA_seq.fa"
   ]
  },
  {
   "cell_type": "code",
   "execution_count": 28,
   "metadata": {},
   "outputs": [
    {
     "name": "stdout",
     "output_type": "stream",
     "text": [
      "gzip: Protein_seq.fa: No such file or directory\n",
      "\n",
      "real\t0m0.001s\n",
      "user\t0m0.001s\n",
      "sys\t0m0.000s\n",
      "bzip2: Can't open input file Protein_seq.fa: No such file or directory.\n",
      "\n",
      "real\t0m0.001s\n",
      "user\t0m0.001s\n",
      "sys\t0m0.000s\n",
      "pbzip2: *ERROR: File [Protein_seq.fa] NOT found!  Skipping...\n",
      "-------------------------------------------\n",
      "\n",
      "real\t0m0.002s\n",
      "user\t0m0.002s\n",
      "sys\t0m0.000s\n"
     ]
    }
   ],
   "source": [
    "! time gzip -cf Protein_seq.fa\n",
    "! time bzip2 -f  Protein_seq.fa\n",
    "! time pbzip2 -f Protein_seq.fa"
   ]
  },
  {
   "cell_type": "code",
   "execution_count": 4,
   "metadata": {},
   "outputs": [
    {
     "name": "stdout",
     "output_type": "stream",
     "text": [
      "Usage: gzip [OPTION]... [FILE]...\r\n",
      "Compress or uncompress FILEs (by default, compress FILES in-place).\r\n",
      "\r\n",
      "Mandatory arguments to long options are mandatory for short options too.\r\n",
      "\r\n",
      "  -c, --stdout      write on standard output, keep original files unchanged\r\n",
      "  -d, --decompress  decompress\r\n",
      "  -f, --force       force overwrite of output file and compress links\r\n",
      "  -h, --help        give this help\r\n",
      "  -l, --list        list compressed file contents\r\n",
      "  -L, --license     display software license\r\n",
      "  -n, --no-name     do not save or restore the original name and time stamp\r\n",
      "  -N, --name        save or restore the original name and time stamp\r\n",
      "  -q, --quiet       suppress all warnings\r\n",
      "  -r, --recursive   operate recursively on directories\r\n",
      "  -S, --suffix=SUF  use suffix SUF on compressed files\r\n",
      "  -t, --test        test compressed file integrity\r\n",
      "  -v, --verbose     verbose mode\r\n",
      "  -V, --version     display version number\r\n",
      "  -1, --fast        compress faster\r\n",
      "  -9, --best        compress better\r\n",
      "    --rsyncable   Make rsync-friendly archive\r\n",
      "\r\n",
      "With no FILE, or when FILE is -, read standard input.\r\n",
      "\r\n",
      "Report bugs to <bug-gzip@gnu.org>.\r\n"
     ]
    }
   ],
   "source": [
    "! gzip --help"
   ]
  },
  {
   "cell_type": "markdown",
   "metadata": {},
   "source": [
    "Keep track of the size of the input files, the size of the output files, and the time each command took to run in a table in your iPython notebook. "
   ]
  },
  {
   "cell_type": "code",
   "execution_count": 31,
   "metadata": {},
   "outputs": [
    {
     "data": {
      "text/html": [
       "<div>\n",
       "<style scoped>\n",
       "    .dataframe tbody tr th:only-of-type {\n",
       "        vertical-align: middle;\n",
       "    }\n",
       "\n",
       "    .dataframe tbody tr th {\n",
       "        vertical-align: top;\n",
       "    }\n",
       "\n",
       "    .dataframe thead th {\n",
       "        text-align: right;\n",
       "    }\n",
       "</style>\n",
       "<table border=\"1\" class=\"dataframe\">\n",
       "  <thead>\n",
       "    <tr style=\"text-align: right;\">\n",
       "      <th></th>\n",
       "      <th>File</th>\n",
       "      <th>gzip time</th>\n",
       "      <th>bzip2 time</th>\n",
       "      <th>pbzip2 time</th>\n",
       "    </tr>\n",
       "  </thead>\n",
       "  <tbody>\n",
       "    <tr>\n",
       "      <th>0</th>\n",
       "      <td>zero100</td>\n",
       "      <td>0.594</td>\n",
       "      <td>0.898</td>\n",
       "      <td>0.157</td>\n",
       "    </tr>\n",
       "    <tr>\n",
       "      <th>1</th>\n",
       "      <td>zero90</td>\n",
       "      <td>26.670</td>\n",
       "      <td>9.700</td>\n",
       "      <td>1.056</td>\n",
       "    </tr>\n",
       "    <tr>\n",
       "      <th>2</th>\n",
       "      <td>zero80</td>\n",
       "      <td>17.059</td>\n",
       "      <td>10.110</td>\n",
       "      <td>1.236</td>\n",
       "    </tr>\n",
       "    <tr>\n",
       "      <th>3</th>\n",
       "      <td>zero70</td>\n",
       "      <td>6.970</td>\n",
       "      <td>11.021</td>\n",
       "      <td>1.471</td>\n",
       "    </tr>\n",
       "    <tr>\n",
       "      <th>4</th>\n",
       "      <td>zero60</td>\n",
       "      <td>4.330</td>\n",
       "      <td>12.215</td>\n",
       "      <td>1.736</td>\n",
       "    </tr>\n",
       "    <tr>\n",
       "      <th>5</th>\n",
       "      <td>zero50</td>\n",
       "      <td>3.502</td>\n",
       "      <td>12.974</td>\n",
       "      <td>1.873</td>\n",
       "    </tr>\n",
       "  </tbody>\n",
       "</table>\n",
       "</div>"
      ],
      "text/plain": [
       "      File  gzip time  bzip2 time  pbzip2 time\n",
       "0  zero100      0.594       0.898        0.157\n",
       "1   zero90     26.670       9.700        1.056\n",
       "2   zero80     17.059      10.110        1.236\n",
       "3   zero70      6.970      11.021        1.471\n",
       "4   zero60      4.330      12.215        1.736\n",
       "5   zero50      3.502      12.974        1.873"
      ]
     },
     "execution_count": 31,
     "metadata": {},
     "output_type": "execute_result"
    }
   ],
   "source": [
    "d = {'File':['zero100','zero90','zero80','zero70','zero60','zero50'],\n",
    "    'gzip time':[0.594, 26.67, 17.059, 6.97, 4.33, 3.502],\n",
    "    'bzip2 time':[0.898, 9.7, 10.11, 11.021, 12.215, 12.974],\n",
    "    'pbzip2 time':[0.157, 1.056, 1.236, 1.471, 1.736, 1.873]}\n",
    "df = pd.DataFrame(data=d)\n",
    "df"
   ]
  },
  {
   "cell_type": "code",
   "execution_count": 34,
   "metadata": {},
   "outputs": [
    {
     "data": {
      "text/html": [
       "<div>\n",
       "<style scoped>\n",
       "    .dataframe tbody tr th:only-of-type {\n",
       "        vertical-align: middle;\n",
       "    }\n",
       "\n",
       "    .dataframe tbody tr th {\n",
       "        vertical-align: top;\n",
       "    }\n",
       "\n",
       "    .dataframe thead th {\n",
       "        text-align: right;\n",
       "    }\n",
       "</style>\n",
       "<table border=\"1\" class=\"dataframe\">\n",
       "  <thead>\n",
       "    <tr style=\"text-align: right;\">\n",
       "      <th></th>\n",
       "      <th>File</th>\n",
       "      <th>gzip space</th>\n",
       "      <th>bzip2 space</th>\n",
       "    </tr>\n",
       "  </thead>\n",
       "  <tbody>\n",
       "    <tr>\n",
       "      <th>0</th>\n",
       "      <td>zero100</td>\n",
       "      <td>97.1</td>\n",
       "      <td>5.38</td>\n",
       "    </tr>\n",
       "    <tr>\n",
       "      <th>1</th>\n",
       "      <td>zero90</td>\n",
       "      <td>56</td>\n",
       "      <td>58.3</td>\n",
       "    </tr>\n",
       "    <tr>\n",
       "      <th>2</th>\n",
       "      <td>zero80</td>\n",
       "      <td>77.4</td>\n",
       "      <td>82.6</td>\n",
       "    </tr>\n",
       "    <tr>\n",
       "      <th>3</th>\n",
       "      <td>zero70</td>\n",
       "      <td>89.3</td>\n",
       "      <td>95.1</td>\n",
       "    </tr>\n",
       "    <tr>\n",
       "      <th>4</th>\n",
       "      <td>zero60</td>\n",
       "      <td>97.7 MB</td>\n",
       "      <td>100 MB</td>\n",
       "    </tr>\n",
       "    <tr>\n",
       "      <th>5</th>\n",
       "      <td>zero50</td>\n",
       "      <td>100 MB</td>\n",
       "      <td>100MB</td>\n",
       "    </tr>\n",
       "  </tbody>\n",
       "</table>\n",
       "</div>"
      ],
      "text/plain": [
       "      File gzip space bzip2 space\n",
       "0  zero100       97.1        5.38\n",
       "1   zero90         56        58.3\n",
       "2   zero80       77.4        82.6\n",
       "3   zero70       89.3        95.1\n",
       "4   zero60    97.7 MB      100 MB\n",
       "5   zero50     100 MB       100MB"
      ]
     },
     "execution_count": 34,
     "metadata": {},
     "output_type": "execute_result"
    }
   ],
   "source": [
    "d = {'File':['zero100','zero90','zero80','zero70','zero60','zero50'],\n",
    "    'gzip space':[97.1, 56, 77.4, 89.3, \"97.7 MB\", '100 MB'],\n",
    "    'bzip2 space':[5.38, 58.3, 82.6, 95.1, '100 MB', \"100MB\" ]}\n",
    "df = pd.DataFrame(data=d)\n",
    "df"
   ]
  },
  {
   "cell_type": "markdown",
   "metadata": {},
   "source": [
    "# Questions\n",
    "\n",
    "**Which algorithm achieves the best level of compression on each file type?**\n",
    "Gzip is better at the binary files, but bzip and pzip do better on the DNA and protein ones. \n",
    "\n",
    "**Which algorithm is the fastest?**\n",
    "pzip is the fastest\n",
    "\n",
    "**What is the difference between bzip2 and pbzip2?**\n",
    "pzip2 runs the same processes as bzip2 but in parallel\n",
    "\n",
    "**Do you expect one to be faster and why?**\n",
    "pzip2 is faster because it can run the processes at the same time\n",
    "\n",
    "**How does the level of compression change as the percentage of zeros increases?**\n",
    "The level of compression goes up as the percentage of zeros approaches 100% \n",
    "\n",
    "**Why does this happen?**\n",
    "because there is decreased entropy when there are just zeros, and there is more that can be compressed\n",
    "\n",
    "**What is the minimum number of bits required to store a single DNA base?**\n",
    "2\n",
    "\n",
    "**What is the minimum number of bits required to store an amino acid letter?**\n",
    "log2(20) = 4.321928094887363 so you need 5 bits\n",
    "\n",
    "**In your tests, how many bits did gzip and bzip2 actually require to store your random DNA and protein sequences?**\n",
    "DNA\n",
    "gzip: 2.2e8 bits \n",
    "bzip2: 2.2e8 \n",
    "Protein\n",
    "gzip: 4.6e8 bits \n",
    "bzip2: 4.2e8 bits.\n",
    "\n",
    "**Are gzip and bzip2 performing well on DNA and proteins?**\n",
    "They don't perform well for DNA because you can encode the 4 bases with two bits, but they work well for proteins. "
   ]
  },
  {
   "cell_type": "markdown",
   "metadata": {},
   "source": [
    "**A priori, do you expect to achieve better or worse compression here than random data? Why?**\n",
    "I expect better compression because there are more trends in nature than there are in random data. \n",
    "\n",
    "**Now, compress the multi-FASTA using gzip and bzip2.How does the compression ratio of this file compare to random data?**\n",
    "\n",
    "The compression ratio is higher for the multi-FASTA sequence\n",
    "\n",
    "**Estimating compression of 1000 terabytes Let’s make some assumptions about the contents of the data at your biotech company. Most of the data, say 80%, is re-sequencing of genomes and plasmids that are very similar to each other. Another 10% might be protein sequences, and the last 10% are binary microscope images which we’ll assume follow the worst-case scenario of being completely random. \n",
    "Given the benchmarking data you obtained in this lab, which algorithm do you p ropose to use for each type of data? Provide an estimate for the fraction of space you can save using your compression scheme.**\n",
    "\n",
    "You can use pzip for the resquencing and protein data because they might have patterns, and then use gzip on the random binary microscope images. \n",
    "\n",
    "**How much of a bonus do you anticipate receiving this year?**\n",
    "I expect a compression ratio of approximately 4 for genomes, plasmids and proteins.\n",
    "I expect a compression ratio of approximately 1 for the random data. \n",
    "\n",
    "Multiplying these by the ratio of data, I expect .9*4 + .1*1 overall compression which = 3.7.\n",
    "\n",
    "(100/3.7) = 27.03 so I expect to get a bonus of 27.03*$500*365days = $4932975!"
   ]
  }
 ],
 "metadata": {
  "kernelspec": {
   "display_name": "Python 3",
   "language": "python",
   "name": "python3"
  },
  "language_info": {
   "codemirror_mode": {
    "name": "ipython",
    "version": 3
   },
   "file_extension": ".py",
   "mimetype": "text/x-python",
   "name": "python",
   "nbconvert_exporter": "python",
   "pygments_lexer": "ipython3",
   "version": "3.7.3"
  }
 },
 "nbformat": 4,
 "nbformat_minor": 2
}
