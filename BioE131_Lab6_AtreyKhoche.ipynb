{
 "cells": [
  {
   "cell_type": "markdown",
   "metadata": {},
   "source": [
    "**Questions:**\n",
    "\n",
    "*How many reads map to humans?*\n",
    "\n",
    "336 of 1285441\n",
    "\n",
    "*How many map to S. oneidensis?*\n",
    "\n",
    "235465\n",
    "\n",
    "*Do the reads cover the S. oneidensis genome uniformly?*\n",
    "\n",
    "No"
   ]
  },
  {
   "cell_type": "markdown",
   "metadata": {},
   "source": [
    "# Mapping Shewanella oneidensis to Human Genome"
   ]
  },
  {
   "cell_type": "code",
   "execution_count": 8,
   "metadata": {},
   "outputs": [],
   "source": [
    "import matplotlib.pyplot as plt\n",
    "import numpy as np\n",
    "import pandas as pd"
   ]
  },
  {
   "cell_type": "markdown",
   "metadata": {},
   "source": [
    "# Filter out Human Contamination"
   ]
  },
  {
   "cell_type": "code",
   "execution_count": 1,
   "metadata": {},
   "outputs": [
    {
     "name": "stdout",
     "output_type": "stream",
     "text": [
      "1285441 reads; of these:\r\n",
      "  1285441 (100.00%) were paired; of these:\r\n",
      "    1285105 (99.97%) aligned concordantly 0 times\r\n",
      "    114 (0.01%) aligned concordantly exactly 1 time\r\n",
      "    222 (0.02%) aligned concordantly >1 times\r\n",
      "    ----\r\n",
      "    1285105 pairs aligned concordantly 0 times; of these:\r\n",
      "      227762 (17.72%) aligned discordantly 1 time\r\n",
      "    ----\r\n",
      "    1057343 pairs aligned 0 times concordantly or discordantly; of these:\r\n",
      "      2114686 mates make up the pairs; of these:\r\n",
      "        2062758 (97.54%) aligned 0 times\r\n",
      "        15162 (0.72%) aligned exactly 1 time\r\n",
      "        36766 (1.74%) aligned >1 times\r\n",
      "19.76% overall alignment rate\r\n"
     ]
    }
   ],
   "source": [
    "! bowtie2 -p 4 --very-fast --no-unal -x /data/references/hg19/hg19 -1 /data/Lab6_data/mixed_reads1.fastq -2 /data/Lab6_data/mixed_reads2.fastq -S human_filtered.sam --un-conc unaligned.fastq"
   ]
  },
  {
   "cell_type": "markdown",
   "metadata": {},
   "source": [
    "**What will you use for the database? Input reads?**\n",
    "\n",
    "The database in this circumstance is the human genome.\n",
    "\n",
    "**If you use the --un unaligned.fastq option, what will unaligned.fastq contain?**\n",
    "\n",
    "The unaligned.fastq contains the parts of the read that didn't align to the human genome, meaning that it contains the uncontaminated portion of the sequence. \n",
    "\n",
    "**What percentage of your sequencing library came from contaminating human DNA?**\n",
    "\n",
    "19.76% came from contaminating human DNA because that is the percentage that aligned. "
   ]
  },
  {
   "cell_type": "markdown",
   "metadata": {},
   "source": [
    "# Align the reads to the bacterial genome"
   ]
  },
  {
   "cell_type": "code",
   "execution_count": 1,
   "metadata": {},
   "outputs": [
    {
     "name": "stdout",
     "output_type": "stream",
     "text": [
      "1285105 reads; of these:\r\n",
      "  1285105 (100.00%) were paired; of these:\r\n",
      "    1049640 (81.68%) aligned concordantly 0 times\r\n",
      "    220987 (17.20%) aligned concordantly exactly 1 time\r\n",
      "    14478 (1.13%) aligned concordantly >1 times\r\n",
      "    ----\r\n",
      "    1049640 pairs aligned concordantly 0 times; of these:\r\n",
      "      288853 (27.52%) aligned discordantly 1 time\r\n",
      "    ----\r\n",
      "    760787 pairs aligned 0 times concordantly or discordantly; of these:\r\n",
      "      1521574 mates make up the pairs; of these:\r\n",
      "        1245335 (81.85%) aligned 0 times\r\n",
      "        221076 (14.53%) aligned exactly 1 time\r\n",
      "        55163 (3.63%) aligned >1 times\r\n",
      "51.55% overall alignment rate\r\n"
     ]
    }
   ],
   "source": [
    "! bowtie2 -p 4 --very-fast --no-unal -x /data/references/shewanella_oneidensis_mr-1/shewanella_oneidensis_mr-1 -1 /home/5372607/Lab6/unaligned.1.fastq -2 /home/5372607/Lab6/unaligned.2.fastq -S shewanella_aligned.sam --un-conc unaligned_shewanella.fastq"
   ]
  },
  {
   "cell_type": "code",
   "execution_count": 2,
   "metadata": {},
   "outputs": [
    {
     "name": "stdout",
     "output_type": "stream",
     "text": [
      "1285105 reads; of these:\r\n",
      "  1285105 (100.00%) were paired; of these:\r\n",
      "    1048972 (81.63%) aligned concordantly 0 times\r\n",
      "    221437 (17.23%) aligned concordantly exactly 1 time\r\n",
      "    14696 (1.14%) aligned concordantly >1 times\r\n",
      "    ----\r\n",
      "    1048972 pairs aligned concordantly 0 times; of these:\r\n",
      "      291246 (27.76%) aligned discordantly 1 time\r\n",
      "    ----\r\n",
      "    757726 pairs aligned 0 times concordantly or discordantly; of these:\r\n",
      "      1515452 mates make up the pairs; of these:\r\n",
      "        1238527 (81.73%) aligned 0 times\r\n",
      "        220113 (14.52%) aligned exactly 1 time\r\n",
      "        56812 (3.75%) aligned >1 times\r\n",
      "51.81% overall alignment rate\r\n"
     ]
    }
   ],
   "source": [
    "! bowtie2 -p 4 --very-sensitive --no-unal -x /data/references/shewanella_oneidensis_mr-1/shewanella_oneidensis_mr-1 -1 /home/5372607/Lab6/unaligned.1.fastq -2 /home/5372607/Lab6/unaligned.2.fastq -S shewanella_aligned.sam --un-conc unaligned_shewanella.fastq"
   ]
  },
  {
   "cell_type": "markdown",
   "metadata": {},
   "source": [
    "**If you use the --un unaligned.fastq option, what will unaligned.fastq contain?**\n",
    "\n",
    "It will contain the parts of the DNA that are neither human nor from Shewanella oneidensis. \n",
    "\n",
    "**What percentage of your filtered library didn’t align to the reference genome?**\n",
    "\n",
    "48.45% of my filtered library didn’t align to the reference genome.\n",
    "\n",
    "**If you use --very-sensitive instead of --very-fast, does this percentage increase or decrease?**\n",
    "\n",
    "Decreases"
   ]
  },
  {
   "cell_type": "code",
   "execution_count": 4,
   "metadata": {},
   "outputs": [
    {
     "name": "stdout",
     "output_type": "stream",
     "text": [
      "[E::sam_parse1] SEQ and QUAL are of different length\r\n",
      "[W::sam_read1] Parse error at line 1233921\r\n",
      "[main_samview] truncated file.\r\n"
     ]
    }
   ],
   "source": [
    "! samtools view -b shewanella_aligned.sam > shewanella_aligned.bam"
   ]
  },
  {
   "cell_type": "code",
   "execution_count": 5,
   "metadata": {},
   "outputs": [],
   "source": [
    "! samtools sort shewanella_aligned.bam > shewanella_aligned.sorted.bam"
   ]
  },
  {
   "cell_type": "code",
   "execution_count": 6,
   "metadata": {},
   "outputs": [],
   "source": [
    "! samtools index shewanella_aligned.sorted.bam"
   ]
  },
  {
   "cell_type": "code",
   "execution_count": 7,
   "metadata": {},
   "outputs": [],
   "source": [
    "! samtools depth -a shewanella_aligned.sorted.bam > pileup.tab"
   ]
  },
  {
   "cell_type": "code",
   "execution_count": 9,
   "metadata": {},
   "outputs": [
    {
     "data": {
      "text/html": [
       "<div>\n",
       "<style scoped>\n",
       "    .dataframe tbody tr th:only-of-type {\n",
       "        vertical-align: middle;\n",
       "    }\n",
       "\n",
       "    .dataframe tbody tr th {\n",
       "        vertical-align: top;\n",
       "    }\n",
       "\n",
       "    .dataframe thead th {\n",
       "        text-align: right;\n",
       "    }\n",
       "</style>\n",
       "<table border=\"1\" class=\"dataframe\">\n",
       "  <thead>\n",
       "    <tr style=\"text-align: right;\">\n",
       "      <th></th>\n",
       "      <th>0</th>\n",
       "      <th>1</th>\n",
       "      <th>2</th>\n",
       "    </tr>\n",
       "  </thead>\n",
       "  <tbody>\n",
       "    <tr>\n",
       "      <th>0</th>\n",
       "      <td>AE014299.2</td>\n",
       "      <td>1</td>\n",
       "      <td>1</td>\n",
       "    </tr>\n",
       "    <tr>\n",
       "      <th>1</th>\n",
       "      <td>AE014299.2</td>\n",
       "      <td>2</td>\n",
       "      <td>3</td>\n",
       "    </tr>\n",
       "    <tr>\n",
       "      <th>2</th>\n",
       "      <td>AE014299.2</td>\n",
       "      <td>3</td>\n",
       "      <td>4</td>\n",
       "    </tr>\n",
       "    <tr>\n",
       "      <th>3</th>\n",
       "      <td>AE014299.2</td>\n",
       "      <td>4</td>\n",
       "      <td>4</td>\n",
       "    </tr>\n",
       "    <tr>\n",
       "      <th>4</th>\n",
       "      <td>AE014299.2</td>\n",
       "      <td>5</td>\n",
       "      <td>4</td>\n",
       "    </tr>\n",
       "  </tbody>\n",
       "</table>\n",
       "</div>"
      ],
      "text/plain": [
       "            0  1  2\n",
       "0  AE014299.2  1  1\n",
       "1  AE014299.2  2  3\n",
       "2  AE014299.2  3  4\n",
       "3  AE014299.2  4  4\n",
       "4  AE014299.2  5  4"
      ]
     },
     "execution_count": 9,
     "metadata": {},
     "output_type": "execute_result"
    }
   ],
   "source": [
    "data = pd.read_csv('pileup.tab', sep='\\t', engine='python', header=None) # open the output file into a dataframe\n",
    "data.head(5) # show the first 10 rows"
   ]
  },
  {
   "cell_type": "markdown",
   "metadata": {},
   "source": [
    "**What is the min, max, and mean coverage across all positions?**"
   ]
  },
  {
   "cell_type": "code",
   "execution_count": 18,
   "metadata": {},
   "outputs": [
    {
     "name": "stdout",
     "output_type": "stream",
     "text": [
      "Min is: 1\n",
      "Max is: 451\n",
      "Mean is: 65.22398831201632\n"
     ]
    }
   ],
   "source": [
    "print(\"Min is: \"  + str(data[2].min()))\n",
    "print(\"Max is: \"  + str(data[2].max()))\n",
    "print(\"Mean is: \" + str(data[2].mean()))"
   ]
  },
  {
   "cell_type": "code",
   "execution_count": 12,
   "metadata": {},
   "outputs": [
    {
     "data": {
      "text/plain": [
       "Text(0, 0.5, 'Depth of Coverage')"
      ]
     },
     "execution_count": 12,
     "metadata": {},
     "output_type": "execute_result"
    },
    {
     "data": {
      "image/png": "[encoded data removed]",
      "text/plain": [
       "<Figure size 432x288 with 1 Axes>"
      ]
     },
     "metadata": {
      "needs_background": "light"
     },
     "output_type": "display_data"
    }
   ],
   "source": [
    "plt.scatter(x=data[1], y=data[2])\n",
    "plt.xlabel('Position in Genome')\n",
    "plt.ylabel('Depth of Coverage')"
   ]
  },
  {
   "cell_type": "code",
   "execution_count": 13,
   "metadata": {},
   "outputs": [
    {
     "data": {
      "text/plain": [
       "Text(0, 0.5, 'Count')"
      ]
     },
     "execution_count": 13,
     "metadata": {},
     "output_type": "execute_result"
    },
    {
     "data": {
      "image/png": "[encoded data removed]",
      "text/plain": [
       "<Figure size 432x288 with 1 Axes>"
      ]
     },
     "metadata": {
      "needs_background": "light"
     },
     "output_type": "display_data"
    }
   ],
   "source": [
    "plt.hist(x=data[2], bins=np.linspace(data[2].min(), data[2].max()))\n",
    "plt.xlabel('Depth of Coverage')\n",
    "plt.ylabel('Count')"
   ]
  },
  {
   "cell_type": "markdown",
   "metadata": {},
   "source": [
    "Extra Credit 1: Generate the same two plots using the SAM file you produced aligning the reads to the human reference genome. Instead of using “Position in Genome” (the plot on the left in red, above), plot the average depth (total depth / length of chromosome) for each human chromosome: chr1-22, X, and Y. What biological sex is Jamie? \n",
    "\n",
    "Extra Credit 2: Try to “zoom in” on regions that seem to have higher coverage than average. Can you figure out what genes are in those regions? You’ll have to extract the sequence from those regions and BLAST it. "
   ]
  }
 ],
 "metadata": {
  "kernelspec": {
   "display_name": "Python 3",
   "language": "python",
   "name": "python3"
  },
  "language_info": {
   "codemirror_mode": {
    "name": "ipython",
    "version": 3
   },
   "file_extension": ".py",
   "mimetype": "text/x-python",
   "name": "python",
   "nbconvert_exporter": "python",
   "pygments_lexer": "ipython3",
   "version": "3.7.3"
  }
 },
 "nbformat": 4,
 "nbformat_minor": 2
}
