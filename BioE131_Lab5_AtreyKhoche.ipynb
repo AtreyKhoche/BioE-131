{
 "cells": [
  {
   "cell_type": "markdown",
   "metadata": {},
   "source": [
    "# **Questions**\n",
    "\n",
    "**Will the AND-1 riboswitch cleave itself when both of its OBS are bound?**\n",
    "\n",
    "Yes, that should happen when you bind both OBS.\n",
    "\n",
    "**Will the OR-1 riboswitch cleave itself when neither of its OBS are bound?** \n",
    "\n",
    "No, the OR switch should need at least one OBS bound to activate. \n",
    "\n",
    "**What behavior do we expect from the YES-1 riboswitch?**\n",
    "\n",
    "The YES-1 gate will be inactive until it has its OBS bound. "
   ]
  },
  {
   "cell_type": "code",
   "execution_count": 167,
   "metadata": {},
   "outputs": [],
   "source": [
    "#import relevant packages\n",
    "\n",
    "%matplotlib inline\n",
    "import sys\n",
    "import matplotlib.pyplot as plt\n",
    "import numpy as np\n",
    "import pandas as pd\n",
    "\n",
    "from Bio import Entrez\n",
    "from Bio import SeqFeature\n",
    "from Bio import SeqIO\n",
    "\n",
    "import subprocess\n",
    "\n",
    "from IPython.display import IFrame, HTML, Image, display\n",
    "\n",
    "import sqlite3\n",
    "conn = sqlite3.connect('my.db')\n",
    "c = conn.cursor()"
   ]
  },
  {
   "cell_type": "markdown",
   "metadata": {},
   "source": [
    "# Part 1: Obtain Sequences and Build a Data Table"
   ]
  },
  {
   "cell_type": "markdown",
   "metadata": {},
   "source": [
    "<img src=\"Screen Shot 2019-10-02 at 4.06.58 PM.png\">\n",
    "Figure 2a: YES-1 riboswitch: "
   ]
  },
  {
   "cell_type": "code",
   "execution_count": 168,
   "metadata": {},
   "outputs": [],
   "source": [
    "#YES-1 \n",
    "two_a = ['two_a','GGGCGACCCUGAUGAGCUUGAGUUUAGCUCGUCACUGUCCAGGUUCAAUCAGGCGAAACGGUGAAAGCCGUAGGUUGCCC']\n",
    "\n",
    "#NOT-1 \n",
    "four_a = ['four_a','GGCAGGUACAUACAGCUGAUGAGUCCCAAAUAGGACGAAACGCGACACACACCACUAAACCGUGCAGUGUUUUGCGUCCUGUAUUCCACUGC']\n",
    "\n",
    "#AND-1 \n",
    "five_a = ['five_a','GGGCGACCCUGAUGGAGCUUGGUUUAGUAUUUACAGCUCCAUACAUGAGGUGUUAUCCCUAUGCAAGUUCAUCAGGCGAAACGGUGAAAGCCGUAGGUUGCCCAGAGACAAU']\n",
    "\n",
    "#OR-1 \n",
    "six_a = ['six_a','GGGCGACCCUGAUGAGCUUGGUUGAGUAUUUACAGCUCCAUACAUGAGGUGUUCUCCCUACGCAAGUUCGAUCAGGCGAAACGGUGAAAGCCGUAGGUUGCCC']\n"
   ]
  },
  {
   "cell_type": "code",
   "execution_count": 169,
   "metadata": {},
   "outputs": [],
   "source": [
    "#store the name and start/stop locations of blue/red regions for each riboswitch\n",
    "yes1 = [\"YES-1\", [26, 47], [0, 0], [16,21], [49,54]]\n",
    "not1 = [\"NOT-1\", [44, 66], [0, 0], [40,43], [74,77]]\n",
    "and1 = [\"AND-1\", [30,45], [49, 64], [16, 23], [70, 77]]\n",
    "or1 = [\"OR-1\", [27, 46], [47, 66], [16, 26], [67, 77]]\n",
    "\n",
    "ribos = [yes1, not1, and1, or1]"
   ]
  },
  {
   "cell_type": "code",
   "execution_count": 170,
   "metadata": {},
   "outputs": [
    {
     "ename": "OperationalError",
     "evalue": "database is locked",
     "output_type": "error",
     "traceback": [
      "\u001b[0;31m---------------------------------------------------------------------------\u001b[0m",
      "\u001b[0;31mOperationalError\u001b[0m                          Traceback (most recent call last)",
      "\u001b[0;32m<ipython-input-170-ef62e7d9fd13>\u001b[0m in \u001b[0;36m<module>\u001b[0;34m\u001b[0m\n\u001b[1;32m      1\u001b[0m \u001b[0;31m#delete and recreate riboswitch table\u001b[0m\u001b[0;34m\u001b[0m\u001b[0;34m\u001b[0m\u001b[0;34m\u001b[0m\u001b[0m\n\u001b[0;32m----> 2\u001b[0;31m \u001b[0mc\u001b[0m\u001b[0;34m.\u001b[0m\u001b[0mexecute\u001b[0m\u001b[0;34m(\u001b[0m\u001b[0;34m\"\"\"DROP TABLE riboswitch\"\"\"\u001b[0m\u001b[0;34m)\u001b[0m\u001b[0;34m\u001b[0m\u001b[0;34m\u001b[0m\u001b[0m\n\u001b[0m\u001b[1;32m      3\u001b[0m c.execute(\"\"\"CREATE TABLE riboswitch (name TEXT,\n\u001b[1;32m      4\u001b[0m                                 \u001b[0mblue1start\u001b[0m \u001b[0mINT\u001b[0m\u001b[0;34m,\u001b[0m\u001b[0;34m\u001b[0m\u001b[0;34m\u001b[0m\u001b[0m\n\u001b[1;32m      5\u001b[0m                                 \u001b[0mblue1end\u001b[0m \u001b[0mINT\u001b[0m\u001b[0;34m,\u001b[0m\u001b[0;34m\u001b[0m\u001b[0;34m\u001b[0m\u001b[0m\n",
      "\u001b[0;31mOperationalError\u001b[0m: database is locked"
     ]
    }
   ],
   "source": [
    "#delete and recreate riboswitch table\n",
    "c.execute(\"\"\"DROP TABLE riboswitch\"\"\")\n",
    "c.execute(\"\"\"CREATE TABLE riboswitch (name TEXT,\n",
    "                                blue1start INT,\n",
    "                                blue1end INT,\n",
    "                                blue2start INT,\n",
    "                                blue2end INT,\n",
    "                                red1start INT,\n",
    "                                red1end INT,\n",
    "                                red2start INT,\n",
    "                                red2end INT);\"\"\")"
   ]
  },
  {
   "cell_type": "code",
   "execution_count": null,
   "metadata": {},
   "outputs": [],
   "source": [
    "#populate the riboswitch table\n",
    "\n",
    "for ribo in range(len(ribos)):\n",
    "    current = ribos[ribo]\n",
    "    #pull data from riboswitch lists\n",
    "    ribo_name = current[0]\n",
    "    blue1start = current[1][0]\n",
    "    blue1end = current[1][1]\n",
    "    blue2start = current[2][0]\n",
    "    blue2end = current[2][1]\n",
    "    red1start = current[3][0]\n",
    "    red1end = current[3][1]\n",
    "    red2start = current[4][0]\n",
    "    red2end = current[4][1]\n",
    "    params = (ribo_name,blue1start,blue1end, blue2start,blue2end, red1start, red1end, red2start,red2end)\n",
    "    c.execute(\"\"\"INSERT INTO riboswitch \n",
    "                         VALUES(?,?,?,?,?,?,?,?,?);\"\"\", params)\n",
    "    conn.commit()\n"
   ]
  },
  {
   "cell_type": "code",
   "execution_count": 171,
   "metadata": {},
   "outputs": [
    {
     "data": {
      "text/plain": [
       "<sqlite3.Cursor at 0x7fa13e023d50>"
      ]
     },
     "execution_count": 171,
     "metadata": {},
     "output_type": "execute_result"
    }
   ],
   "source": [
    "#test if table works \n",
    "c.execute(\"\"\"SELECT * FROM riboswitch WHERE name = \"YES-1\" \"\"\")"
   ]
  },
  {
   "cell_type": "markdown",
   "metadata": {},
   "source": [
    "# Part 2: Use RNA_Fold to Develop Folded RNA Structures"
   ]
  },
  {
   "cell_type": "code",
   "execution_count": 172,
   "metadata": {},
   "outputs": [],
   "source": [
    "#RNA Fold subprocess command\n",
    "\n",
    "def RNA_Fold(sequence, constraint_sequence = 0, version_number = '_'):\n",
    "  \n",
    "    #checks to see if you're inputting a constrained sequence or not\n",
    "    if constraint_sequence != 0:\n",
    "        p=subprocess.run(['RNAfold', '--constraint'],\n",
    "                    input=bytes(sequence[1] + '\\n' + constraint_sequence,'ascii'),\n",
    "                    stdout=subprocess.PIPE,\n",
    "                    stderr=subprocess.PIPE)\n",
    "        #changes the file name so that you can tell apart the different OBS bind sites\n",
    "        file_name = 'convert rna.ps ' + sequence[0] + '_constraint' + version_number + '.png'\n",
    "    else:\n",
    "        p=subprocess.run(['RNAfold'],\n",
    "                    input=bytes(sequence[1],'ascii'),\n",
    "                    stdout=subprocess.PIPE,\n",
    "                    stderr=subprocess.PIPE)\n",
    "        file_name = 'convert rna.ps ' + sequence[0] + '.png'\n",
    "    print(p.stderr.decode())\n",
    "    subprocess.run(['RNAplot','-o','svg'],\n",
    "                  input=bytes(p.stdout.decode(),'ascii'),\n",
    "                  stderr=subprocess.PIPE)\n",
    "    subprocess.call(file_name, shell=True)\n",
    "\n",
    "    return"
   ]
  },
  {
   "cell_type": "code",
   "execution_count": 173,
   "metadata": {},
   "outputs": [
    {
     "name": "stdout",
     "output_type": "stream",
     "text": [
      "\n",
      "\n",
      "\n",
      "\n"
     ]
    }
   ],
   "source": [
    "RNA_Fold(two_a)\n",
    "RNA_Fold(four_a)\n",
    "RNA_Fold(five_a)\n",
    "RNA_Fold(six_a)"
   ]
  },
  {
   "cell_type": "markdown",
   "metadata": {},
   "source": [
    "# Unconstrained Structures"
   ]
  },
  {
   "cell_type": "markdown",
   "metadata": {},
   "source": [
    "# **YES-1**\n",
    "\n",
    "![](two_a.png)\n",
    "\n",
    "two_a: This structure is not the same as the one in the paper. It has more stem loops than the conformation described in the paper. One of the original stem loops from the paper is split into two stems in the RNA_Fold conformation. Also, the red regions don't align so the ribozyme is inactive. "
   ]
  },
  {
   "cell_type": "markdown",
   "metadata": {},
   "source": [
    "# **NOT-1**\n",
    "\n",
    "![](four_a.png)\n",
    "\n",
    "four_a: This structure looks similar to that of the paper. The number of stem loops is the same and the general struture matches that of the paper. This makes sense because the unbound conformation should be the most stable, and the RNA_Fold predicts structures primarily based on having a low free energy. The red regions are paired in this structure, making it active. "
   ]
  },
  {
   "cell_type": "markdown",
   "metadata": {},
   "source": [
    "# **AND-1**\n",
    "\n",
    "![](five_a.png)\n",
    "\n",
    "five_a: This structure is very close to the one depicted in the paper. It has the same number of stem loops along with the same pairing patterns, and the only differences are the angles at which the stem loops branch off (probably due to software differences in plotting). The red regions don't bp with each other so its inactive. "
   ]
  },
  {
   "cell_type": "markdown",
   "metadata": {},
   "source": [
    "# **OR-1**\n",
    "\n",
    "![](six_a.png)\n",
    "\n",
    "six_a: This structure is very similar to that of the paper. The stem loops and bubbles are all the same. One of the two red regions is bound, which makes sense for an 'or' gate. This ribozyme should still be inactive though. "
   ]
  },
  {
   "cell_type": "markdown",
   "metadata": {},
   "source": [
    "# Part 3: Constrained Structures"
   ]
  },
  {
   "cell_type": "code",
   "execution_count": 174,
   "metadata": {},
   "outputs": [],
   "source": [
    "#function that creates the sequence with \".\" and \"x\" to represent the constraint locations\n",
    "\n",
    "def generate_constraints(sequence, start, stop):\n",
    "    file = ''\n",
    "    for i in range(0, start):\n",
    "        file += '.'\n",
    "    for i in range(start, stop):\n",
    "        file += 'x'\n",
    "    for i in range(stop, len(sequence)):\n",
    "        file += '.'\n",
    "    return file"
   ]
  },
  {
   "cell_type": "code",
   "execution_count": 175,
   "metadata": {},
   "outputs": [],
   "source": [
    "#creates the constraint files and stores them as strings\n",
    "\n",
    "yes_constraint = generate_constraints(two_a[1], 26, 47)\n",
    "no_constraint = generate_constraints(four_a[1], 44, 66)\n",
    "and_constraint1 = generate_constraints(five_a[1],30,45)\n",
    "and_constraint2 = generate_constraints(five_a[1], 49, 64)\n",
    "or_constraint1 = generate_constraints(six_a[1], 27, 46) \n",
    "or_constraint2 = generate_constraints(six_a[1], 47, 66)"
   ]
  },
  {
   "cell_type": "code",
   "execution_count": 176,
   "metadata": {},
   "outputs": [
    {
     "name": "stdout",
     "output_type": "stream",
     "text": [
      "..........................xxxxxxxxxxxxxxxxxxxxx.................................\n",
      "............................................xxxxxxxxxxxxxxxxxxxxxx..........................\n",
      "..............................xxxxxxxxxxxxxxx...................................................................\n",
      ".................................................xxxxxxxxxxxxxxx................................................\n",
      "...........................xxxxxxxxxxxxxxxxxxx.........................................................\n",
      "...............................................xxxxxxxxxxxxxxxxxxx.....................................\n"
     ]
    }
   ],
   "source": [
    "#outputs the constraint strings for cross checking\n",
    "\n",
    "print(yes_constraint)\n",
    "print(no_constraint)\n",
    "print(and_constraint1)\n",
    "print(and_constraint2)\n",
    "print(or_constraint1)\n",
    "print(or_constraint2)\n",
    "and_constraint3 = '..............................xxxxxxxxxxxxxxx....xxxxxxxxxxxxxxx................................................'\n",
    "or_constraint3 =  '...........................xxxxxxxxxxxxxxxxxxx.xxxxxxxxxxxxxxxxxxx.....................................'"
   ]
  },
  {
   "cell_type": "code",
   "execution_count": 177,
   "metadata": {},
   "outputs": [
    {
     "name": "stdout",
     "output_type": "stream",
     "text": [
      "\n",
      "\n",
      "\n",
      "\n",
      "\n",
      "\n",
      "\n",
      "\n"
     ]
    }
   ],
   "source": [
    "#creates a new .png file with the structure of the constrained RNA fold\n",
    "\n",
    "RNA_Fold(two_a, yes_constraint)\n",
    "RNA_Fold(four_a, no_constraint)\n",
    "RNA_Fold(five_a, and_constraint1, 'one')\n",
    "RNA_Fold(five_a, and_constraint2, 'two')\n",
    "RNA_Fold(five_a, and_constraint3, 'three')\n",
    "RNA_Fold(six_a, or_constraint1, 'one')\n",
    "RNA_Fold(six_a, or_constraint2, 'two')\n",
    "RNA_Fold(six_a, or_constraint3, 'three')"
   ]
  },
  {
   "cell_type": "markdown",
   "metadata": {},
   "source": [
    "# Part 4: Constrained Structures + Analysis"
   ]
  },
  {
   "cell_type": "markdown",
   "metadata": {},
   "source": [
    "![](two_a_constraint_.png)\n",
    "\n",
    "two_a_constraint: The folding structure matches that of the paper. Also, the red regions line up, meaning that its an active ribozyme. \n",
    "\n",
    "![](four_a_constraint_.png)\n",
    "\n",
    "four_a_constraint: The folding structure matches that of the paper. Also, the red regions do not line up, meaning that its an inactive ribozyme. \n",
    "\n",
    "![](five_a_constraintone.png)\n",
    "\n",
    "five_a_constraintone: (OBS1) The folding structure does not match the paper. The red regions don't align so its inactive. \n",
    "\n",
    "![](five_a_constrainttwo.png)\n",
    "\n",
    "five_a_constrainttwo: (OBS2) The folding structure does not match the paper. The red regions don't align so its inactive. \n",
    "\n",
    "![](five_a_constraintthree.png)\n",
    "\n",
    "five_a_constraintthree: (OBS1 and OBS2) The folding structure does not match the paper. The red regions don't align so its inactive. \n",
    "\n",
    "![](six_a_constraintone.png)\n",
    "\n",
    "six_a_constraintone: (OBS1) The folding structure does not match the paper. The red regions don't align so its inactive, even though its supposed to be active. \n",
    "\n",
    "![](six_a_constrainttwo.png)\n",
    "\n",
    "six_a_constrainttwo: (OBS2) The folding structure matches the paper. The red regions align so its active, which makes sense because one OBS is bound. \n",
    "\n",
    "![](six_a_constraintthree.png)\n",
    "\n",
    "six_a_constraintthree: (OBS1 and OBS2) The folding structure matches the paper. Moreover, the structure is the exact same as constraint two. The red regions align so its active, which makes sense because both OBS are bound. "
   ]
  },
  {
   "cell_type": "markdown",
   "metadata": {},
   "source": [
    "# Part 5: Truth Table: Effectiveness of Ribozyme Switches"
   ]
  },
  {
   "cell_type": "code",
   "execution_count": 178,
   "metadata": {},
   "outputs": [
    {
     "data": {
      "text/html": [
       "<div>\n",
       "<style scoped>\n",
       "    .dataframe tbody tr th:only-of-type {\n",
       "        vertical-align: middle;\n",
       "    }\n",
       "\n",
       "    .dataframe tbody tr th {\n",
       "        vertical-align: top;\n",
       "    }\n",
       "\n",
       "    .dataframe thead th {\n",
       "        text-align: right;\n",
       "    }\n",
       "</style>\n",
       "<table border=\"1\" class=\"dataframe\">\n",
       "  <thead>\n",
       "    <tr style=\"text-align: right;\">\n",
       "      <th></th>\n",
       "      <th>OBS1</th>\n",
       "      <th>OBS2</th>\n",
       "      <th>AND-1 active</th>\n",
       "      <th>OR-1 active</th>\n",
       "    </tr>\n",
       "  </thead>\n",
       "  <tbody>\n",
       "    <tr>\n",
       "      <th>0</th>\n",
       "      <td>T</td>\n",
       "      <td>T</td>\n",
       "      <td>no</td>\n",
       "      <td>yes</td>\n",
       "    </tr>\n",
       "    <tr>\n",
       "      <th>1</th>\n",
       "      <td>F</td>\n",
       "      <td>F</td>\n",
       "      <td>no</td>\n",
       "      <td>no</td>\n",
       "    </tr>\n",
       "    <tr>\n",
       "      <th>2</th>\n",
       "      <td>T</td>\n",
       "      <td>F</td>\n",
       "      <td>no</td>\n",
       "      <td>no</td>\n",
       "    </tr>\n",
       "    <tr>\n",
       "      <th>3</th>\n",
       "      <td>F</td>\n",
       "      <td>T</td>\n",
       "      <td>no</td>\n",
       "      <td>yes</td>\n",
       "    </tr>\n",
       "  </tbody>\n",
       "</table>\n",
       "</div>"
      ],
      "text/plain": [
       "  OBS1 OBS2 AND-1 active OR-1 active\n",
       "0    T    T           no         yes\n",
       "1    F    F           no          no\n",
       "2    T    F           no          no\n",
       "3    F    T           no         yes"
      ]
     },
     "execution_count": 178,
     "metadata": {},
     "output_type": "execute_result"
    }
   ],
   "source": [
    "d = {'OBS1': ['T', 'F', 'T', 'F'], 'OBS2': ['T', 'F', 'F', 'T'], 'AND-1 active': ['no', 'no', 'no', 'no'], 'OR-1 active': ['yes', 'no', 'no', 'yes']}\n",
    "df = pd.DataFrame(data=d)\n",
    "df"
   ]
  },
  {
   "cell_type": "markdown",
   "metadata": {},
   "source": [
    "The AND-1 and OR-1 riboswitches do not work as the paper claims. The AND-1 switch doesn't even activate when both OBS are bound, making it immediately nonfunctional. The OR-1 switch doesn't work fully, but does activate when OBS-2 is bound. It doesn't work as an OR gate though because OBS1 fails to activate it. "
   ]
  }
 ],
 "metadata": {
  "kernelspec": {
   "display_name": "Python 3",
   "language": "python",
   "name": "python3"
  },
  "language_info": {
   "codemirror_mode": {
    "name": "ipython",
    "version": 3
   },
   "file_extension": ".py",
   "mimetype": "text/x-python",
   "name": "python",
   "nbconvert_exporter": "python",
   "pygments_lexer": "ipython3",
   "version": "3.7.3"
  }
 },
 "nbformat": 4,
 "nbformat_minor": 2
}
